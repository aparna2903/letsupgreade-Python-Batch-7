{
  "nbformat": 4,
  "nbformat_minor": 0,
  "metadata": {
    "colab": {
      "name": "data_science_batch_1_assignment_2.ipynb",
      "provenance": [],
      "collapsed_sections": [],
      "authorship_tag": "ABX9TyM6aZbJcwievOFktXWBEZPZ",
      "include_colab_link": true
    },
    "kernelspec": {
      "name": "python3",
      "display_name": "Python 3"
    }
  },
  "cells": [
    {
      "cell_type": "markdown",
      "metadata": {
        "id": "view-in-github",
        "colab_type": "text"
      },
      "source": [
        "<a href=\"https://colab.research.google.com/github/aparna2903/letsupgreade-Python-Batch-7/blob/master/data_science_batch_1_assignment_2.ipynb\" target=\"_parent\"><img src=\"https://colab.research.google.com/assets/colab-badge.svg\" alt=\"Open In Colab\"/></a>"
      ]
    },
    {
      "cell_type": "code",
      "metadata": {
        "id": "Lem-3Mn39tw3",
        "outputId": "9ddb06d5-46cb-450a-ecc5-a5f3caca9f62",
        "colab": {
          "base_uri": "https://localhost:8080/"
        }
      },
      "source": [
        "# Questions 1:\n",
        "# Create an empty list. Accept 10 numbers from the user and append to it the list if it is an even number.\n",
        "\n",
        "def even_number(A): \n",
        "   evenlist = []  \n",
        "   for i in A: \n",
        "      if (i % 2 == 0): \n",
        "         evenlist.append(i) \n",
        "   print(\"Even lists:\", evenlist) \n",
        "       \n",
        "A=list()\n",
        "n=int(input(\"Enter the size of the First List ::\"))\n",
        "print(\"Enter the Element of First  List ::\")\n",
        "for i in range(int(n)):\n",
        "   k=int(input(\"\"))\n",
        "   A.append(k)\n",
        "even_number(A)\n",
        "\n",
        "# Questions 2:\n",
        "# Create a notebook on LIST COMPREHENSION. This exercise is to put you in a Self learning mode\n",
        "\n",
        "square = [i**2 for i in range(1,101)]\n",
        "print(square)\n",
        "\n",
        "# Questions 3:\n",
        "# You have seen in the videos how powerful dictionary data structure is.\n",
        "# In this assignment, given a number n, you have to write a program that generates a dictionary d which\n",
        "# contains (i, i*i), where i is from 1 to n (both included).\n",
        "# Then you have to just print this dictionary d.\n",
        "\n",
        "def dictionary_function(D):\n",
        "  num = {}\n",
        "  for i in range(1, D+1):\n",
        "    num[i]= i**2\n",
        "  return num\n",
        "d1 = int(input(\"Enter the number : \"))\n",
        "print(dictionary_function(d1))\n",
        "\n",
        "# Questions 4:\n",
        "# There is a robot which wants to go the charging point to charge itself. The robot moves in a 2-D plane from the original point (0,0). The robot can\n",
        "# move toward UP, DOWN, LEFT and RIGHT with given steps.\n",
        "\n",
        "# Write a program to compute the distance between the current position after a sequence of movement and original point. If the distance is a float, then\n",
        "# just print the nearest integer (use round() function for that and then convert it into an integer).\n",
        "\n",
        "import math\n",
        "print(\"First point axis x1, y1 \")\n",
        "print(\"=\"*25)\n",
        "x1 = float(input(\"Input the value of x1 : \"))\n",
        "y1 = float(input(\"Input the value of y1 : \"))\n",
        "print(\"Second point axis x2, y2 \")\n",
        "print(\"=\"*25)\n",
        "x2 = float(input(\"Input the value of x2 : \"))\n",
        "y2 = float(input(\"Input the value of y2 : \"))\n",
        "p1=[x1,y1]\n",
        "p2=[x2,y2]\n",
        "dist=math.sqrt (((p1[0]-p2[0])**2)+((p1[1]-p2[1])**2))\n",
        "print(\"The distance is : \", round(dist))"
      ],
      "execution_count": 5,
      "outputs": [
        {
          "output_type": "stream",
          "text": [
            "Enter the size of the First List ::5\n",
            "Enter the Element of First  List ::\n",
            "34\n",
            "67\n",
            "45\n",
            "78\n",
            "92\n",
            "Even lists: [34, 78, 92]\n",
            "[1, 4, 9, 16, 25, 36, 49, 64, 81, 100, 121, 144, 169, 196, 225, 256, 289, 324, 361, 400, 441, 484, 529, 576, 625, 676, 729, 784, 841, 900, 961, 1024, 1089, 1156, 1225, 1296, 1369, 1444, 1521, 1600, 1681, 1764, 1849, 1936, 2025, 2116, 2209, 2304, 2401, 2500, 2601, 2704, 2809, 2916, 3025, 3136, 3249, 3364, 3481, 3600, 3721, 3844, 3969, 4096, 4225, 4356, 4489, 4624, 4761, 4900, 5041, 5184, 5329, 5476, 5625, 5776, 5929, 6084, 6241, 6400, 6561, 6724, 6889, 7056, 7225, 7396, 7569, 7744, 7921, 8100, 8281, 8464, 8649, 8836, 9025, 9216, 9409, 9604, 9801, 10000]\n",
            "Enter the number : 113\n",
            "{1: 1, 2: 4, 3: 9, 4: 16, 5: 25, 6: 36, 7: 49, 8: 64, 9: 81, 10: 100, 11: 121, 12: 144, 13: 169, 14: 196, 15: 225, 16: 256, 17: 289, 18: 324, 19: 361, 20: 400, 21: 441, 22: 484, 23: 529, 24: 576, 25: 625, 26: 676, 27: 729, 28: 784, 29: 841, 30: 900, 31: 961, 32: 1024, 33: 1089, 34: 1156, 35: 1225, 36: 1296, 37: 1369, 38: 1444, 39: 1521, 40: 1600, 41: 1681, 42: 1764, 43: 1849, 44: 1936, 45: 2025, 46: 2116, 47: 2209, 48: 2304, 49: 2401, 50: 2500, 51: 2601, 52: 2704, 53: 2809, 54: 2916, 55: 3025, 56: 3136, 57: 3249, 58: 3364, 59: 3481, 60: 3600, 61: 3721, 62: 3844, 63: 3969, 64: 4096, 65: 4225, 66: 4356, 67: 4489, 68: 4624, 69: 4761, 70: 4900, 71: 5041, 72: 5184, 73: 5329, 74: 5476, 75: 5625, 76: 5776, 77: 5929, 78: 6084, 79: 6241, 80: 6400, 81: 6561, 82: 6724, 83: 6889, 84: 7056, 85: 7225, 86: 7396, 87: 7569, 88: 7744, 89: 7921, 90: 8100, 91: 8281, 92: 8464, 93: 8649, 94: 8836, 95: 9025, 96: 9216, 97: 9409, 98: 9604, 99: 9801, 100: 10000, 101: 10201, 102: 10404, 103: 10609, 104: 10816, 105: 11025, 106: 11236, 107: 11449, 108: 11664, 109: 11881, 110: 12100, 111: 12321, 112: 12544, 113: 12769}\n",
            "First point axis x1, y1 \n",
            "=========================\n",
            "Input the value of x1 : 12\n",
            "Input the value of y1 : 20\n",
            "Second point axis x2, y2 \n",
            "=========================\n",
            "Input the value of x2 : 17\n",
            "Input the value of y2 : 27\n",
            "The distance is :  9\n"
          ],
          "name": "stdout"
        }
      ]
    }
  ]
}