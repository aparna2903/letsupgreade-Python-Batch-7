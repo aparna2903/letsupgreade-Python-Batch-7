{
  "nbformat": 4,
  "nbformat_minor": 0,
  "metadata": {
    "colab": {
      "name": "Assignment1_day5_batch7.ipynb",
      "provenance": [],
      "collapsed_sections": [],
      "authorship_tag": "ABX9TyPbiL/w8QNG5/CkYG47aiY8",
      "include_colab_link": true
    },
    "kernelspec": {
      "name": "python3",
      "display_name": "Python 3"
    }
  },
  "cells": [
    {
      "cell_type": "markdown",
      "metadata": {
        "id": "view-in-github",
        "colab_type": "text"
      },
      "source": [
        "<a href=\"https://colab.research.google.com/github/aparna2903/letsupgreade-Python-Batch-7/blob/master/Assignment1_day5_batch7.ipynb\" target=\"_parent\"><img src=\"https://colab.research.google.com/assets/colab-badge.svg\" alt=\"Open In Colab\"/></a>"
      ]
    },
    {
      "cell_type": "code",
      "metadata": {
        "id": "fyJETjCcrR8R",
        "colab_type": "code",
        "colab": {
          "base_uri": "https://localhost:8080/",
          "height": 68
        },
        "outputId": "007af619-e637-4f73-cb68-34b6b8dc21d6"
      },
      "source": [
        "# Q. write a program to identify sub list[1,1,5] is there in the given list in the same order, if yes print \"it's a match,if no then print \"it's gone\"in function\n",
        "# Listy=[1,5,6,4,1,2,3,5]- it's match\n",
        "# Listy=[1,5,6,5,1,2,3,6]- it's gone\n",
        "\n",
        "#Solution\n",
        "\n",
        "\n",
        "def find_list(nums):\n",
        "  for i in range(len(nums)-2):\n",
        "    if nums[i]==1 and nums[i+1]==1 and nums[i+2]==5:\n",
        "      return \"It's match\"\n",
        "    \n",
        "  return \"It's gone\"\n",
        "\n",
        "lst1 = [1,5,1,1,5,2,3,5]\n",
        "lst2 = [1,5,6,5,1,2,3,6]\n",
        "lst3 = [1,5,6,4,1,2,3,5]\n",
        "\n",
        "print(find_list(lst1))\n",
        "print(find_list(lst2))\n",
        "print(find_list(lst3))\n"
      ],
      "execution_count": 1,
      "outputs": [
        {
          "output_type": "stream",
          "text": [
            "It's match\n",
            "It's gone\n",
            "It's gone\n"
          ],
          "name": "stdout"
        }
      ]
    }
  ]
}