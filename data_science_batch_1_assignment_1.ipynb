{
  "nbformat": 4,
  "nbformat_minor": 0,
  "metadata": {
    "colab": {
      "name": "data_science_batch_1_assignment_1.ipynb",
      "provenance": [],
      "collapsed_sections": [],
      "authorship_tag": "ABX9TyPfB5mRExD+8IHh2iZ/G0q2",
      "include_colab_link": true
    },
    "kernelspec": {
      "name": "python3",
      "display_name": "Python 3"
    }
  },
  "cells": [
    {
      "cell_type": "markdown",
      "metadata": {
        "id": "view-in-github",
        "colab_type": "text"
      },
      "source": [
        "<a href=\"https://colab.research.google.com/github/aparna2903/letsupgreade-Python-Batch-7/blob/master/data_science_batch_1_assignment_1.ipynb\" target=\"_parent\"><img src=\"https://colab.research.google.com/assets/colab-badge.svg\" alt=\"Open In Colab\"/></a>"
      ]
    },
    {
      "cell_type": "code",
      "metadata": {
        "id": "fJUDSpIn6T5Z",
        "outputId": "08a49b34-20c0-46fc-aa8c-9fffdca5a4eb",
        "colab": {
          "base_uri": "https://localhost:8080/"
        }
      },
      "source": [
        "# Questions 1: \n",
        "# Given the following jumbled word, OBANWRI guess the correct English word. \n",
        "# A. RANIBOW B. RAINBOW C. BOWRANI D. ROBWANI\n",
        "\n",
        "word_list = [\"RANIBOW\",\"RAINBOW\",\"BOWRANI\",\"ROBWANI\"]\n",
        "guess_word = \"RAINBOW\"\n",
        "guess = \" \"\n",
        "\n",
        "while guess_word!= guess.upper() and guess_word!= word_list:\n",
        "    guess = input(\"Enter Guess Word : \")\n",
        "\n",
        "print(\"You guess correct word\",guess)\n",
        "\n",
        "\n",
        "# Questions 2:\n",
        "# Write a program which prints “LETS UPGRADE”. (Please note that you have to print in ALL CAPS as given)\n",
        "\n",
        "String = input(\"Please enter string : \")\n",
        "print(String.upper())\n",
        "\n",
        "\n",
        "# Questions 3:\n",
        "# Write a program that takes cost price and selling price as input and displays whether the transaction is a Profit or a Loss or Neither. \n",
        "# INPUT FORMAT The first line contains the cost price. The second line contains the selling price. \n",
        "# OUTPUT FORMAT Print \"Profit\" if the transaction is a profit or \"Loss\" if it is a loss. If it is neither profit nor loss, print \"Neither\". \n",
        "# (You must not have quotes in your output)\n",
        "\n",
        "CP = float(input(\" Please Enter the Cost Price of the product: \"))\n",
        "\n",
        "SP = float(input(\" Please Enter the Sale Price of the product: \"))\n",
        "\n",
        "if(CP > SP):\n",
        "\n",
        "   amount = CP - SP\n",
        "\n",
        "   print(\"Total Loss Amount : \",amount)\n",
        "\n",
        "elif(SP > CP):\n",
        "\n",
        "   amount = SP - CP\n",
        "\n",
        "   print(\"Total Profit : \",amount)\n",
        "\n",
        "else:\n",
        "\n",
        "   print(\"There is no Profit no Loss....\")\n",
        "\n",
        "\n",
        "   \n",
        "\n",
        "# Questions 4:\n",
        "# Write a program that takes an amount in Indian Rupees as input. You need to find its equivalent in Euro and display it. \n",
        "# Assume 1 Euro equals Rs. 80. Please note that you are expected to stick to the given input and output format as in sample test cases. \n",
        "# Please don't add any extra lines such as 'Enter a number', etc.\n",
        "# Your program should take only one number as input and display the output.\n",
        "\n",
        "euro = float(input(\"Please Enter Euro:\"))\n",
        "rupees = euro * 80\n",
        "print(rupees, \" Rupees\")"
      ],
      "execution_count": 2,
      "outputs": [
        {
          "output_type": "stream",
          "text": [
            "Enter Guess Word : RAINBOW\n",
            "You guess correct word RAINBOW\n",
            "Please enter string : lets upgrade\n",
            "LETS UPGRADE\n",
            " Please Enter the Cost Price of the product: 3500\n",
            " Please Enter the Sale Price of the product: 4000\n",
            "Total Profit :  500.0\n",
            "Please Enter Euro:1\n",
            "80.0  Rupees\n"
          ],
          "name": "stdout"
        }
      ]
    }
  ]
}