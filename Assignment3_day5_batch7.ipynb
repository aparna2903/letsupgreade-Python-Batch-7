{
  "nbformat": 4,
  "nbformat_minor": 0,
  "metadata": {
    "colab": {
      "name": "Assignment3_day5_batch7.ipynb",
      "provenance": [],
      "collapsed_sections": [],
      "authorship_tag": "ABX9TyPjGMV6yWsueyUz39ekFG+B",
      "include_colab_link": true
    },
    "kernelspec": {
      "name": "python3",
      "display_name": "Python 3"
    }
  },
  "cells": [
    {
      "cell_type": "markdown",
      "metadata": {
        "id": "view-in-github",
        "colab_type": "text"
      },
      "source": [
        "<a href=\"https://colab.research.google.com/github/aparna2903/letsupgreade-Python-Batch-7/blob/master/Assignment3_day5_batch7.ipynb\" target=\"_parent\"><img src=\"https://colab.research.google.com/assets/colab-badge.svg\" alt=\"Open In Colab\"/></a>"
      ]
    },
    {
      "cell_type": "code",
      "metadata": {
        "id": "G5ZwL27-rjHm",
        "colab_type": "code",
        "colab": {
          "base_uri": "https://localhost:8080/",
          "height": 34
        },
        "outputId": "35fa442e-ee8b-499b-ff85-b32b8cfef2f0"
      },
      "source": [
        "#Q. Make a Lambda function for capitalizing the whole sentence passed using arguments and map all sentences in the list, with the Lambda function\n",
        "\n",
        "#Solution\n",
        "x = 'hello. goodbye. and how are you doing.'\n",
        "print( '. '.join(map(lambda s: s.strip().capitalize(), x.split('.'))))"
      ],
      "execution_count": 1,
      "outputs": [
        {
          "output_type": "stream",
          "text": [
            "Hello. Goodbye. And how are you doing. \n"
          ],
          "name": "stdout"
        }
      ]
    }
  ]
}